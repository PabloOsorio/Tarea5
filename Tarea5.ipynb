{
  "nbformat": 4,
  "nbformat_minor": 0,
  "metadata": {
    "colab": {
      "name": "Tarea5.ipynb",
      "provenance": [],
      "authorship_tag": "ABX9TyN4yxD0eL1AfgFxX1lfcc5V",
      "include_colab_link": true
    },
    "kernelspec": {
      "name": "python3",
      "display_name": "Python 3"
    },
    "language_info": {
      "name": "python"
    }
  },
  "cells": [
    {
      "cell_type": "markdown",
      "metadata": {
        "id": "view-in-github",
        "colab_type": "text"
      },
      "source": [
        "<a href=\"https://colab.research.google.com/github/PabloOsorio/Tarea5/blob/main/Tarea5.ipynb\" target=\"_parent\"><img src=\"https://colab.research.google.com/assets/colab-badge.svg\" alt=\"Open In Colab\"/></a>"
      ]
    },
    {
      "cell_type": "code",
      "metadata": {
        "colab": {
          "base_uri": "https://localhost:8080/"
        },
        "id": "hS-ITqTiZH7U",
        "outputId": "ae582ba1-1d50-4e44-d723-3e4c80b0cc2b"
      },
      "source": [
        "archivo = open('junio.dat','rt', encoding='latin-1')\n",
        "print(archivo.read())"
      ],
      "execution_count": 1,
      "outputs": [
        {
          "output_type": "stream",
          "name": "stdout",
          "text": [
            "numero de trabajador, nombres, paterno, materno, horas extra, sueldo base, aÃ±o de ingreso\n",
            "2345,CARLOS,PEREZ,CASTILLO,0,9850,2017\n",
            "5754,ANGEL,GOMEZ,GARRIDO,1,9850,2020\n",
            "5345,JESUS,MARTIN,SANTOS,2,9850,2016\n",
            "3267,DAVID,JIMENEZ,LOZANO,2,9850,2017\n",
            "8765,PEDRO,RUIZ,GUERRERO,2,9850,2017\n",
            "5454,DANIEL,HERNANDEZ,CANO,3,9850,2018\n",
            "3456,ALEJANDRO,DIAZ,PRIETO,2,9850,2018\n",
            "3445,MARIA,MORENO,MENDEZ,1,9850,2018\n",
            "9088,ALBERTO,MUOZ,CRUZ,1,9850,2017\n",
            "8877,RAFAEL,ALVAREZ,FLORES,2,9850,2017\n",
            "6767,FERNANDO,ROMERO,HERRERA,4,9850,2019\n",
            "5654,PABLO,ALONSO,GALLEGO,1,9850,2019\n",
            "4323,JORGE,GUTIERREZ,MARQUEZ,2,9850,2020\n",
            "2232,RAMON,NAVARRO,LEON,1,9850,2016\n"
          ]
        }
      ]
    },
    {
      "cell_type": "code",
      "metadata": {
        "colab": {
          "base_uri": "https://localhost:8080/"
        },
        "id": "3O-T4Q_TSxGo",
        "outputId": "219e70cc-d42c-4381-ee5d-2a6d4357af24"
      },
      "source": [
        "class Trabajador:\n",
        "  def __init__( self, nt, nom, pat, mat, he, sb, ai ): \n",
        "    self.__numero_trabajador = nt #Asi sucesivamente para todos los atributos\n",
        "    self.__nombres = nom \n",
        "    self.__apellido_paterno = pat\n",
        "    self.__apellido_materno = mat\n",
        "    self.__horas_extras = he\n",
        "    self.__sueldo_base= sb\n",
        "    self.__anio_de_ingreso = ai\n",
        "  #Aqui los metodos de acceso get y set etc..\n",
        "  def set_numero_trabajador( self , nt ):\n",
        "    self.__numero_trabajador = nt #Asi con todos \n",
        "\n",
        "  def get_numero_trabajador( self ):\n",
        "    return self.__numero_trabajador\n",
        "\n",
        "  def set_nombres(self , nom):\n",
        "    self.__nombres = nom \n",
        "  def get_nombres( self ):\n",
        "    return self.__nombres\n",
        "\n",
        "  def set_apellido_paterno(self, pat):\n",
        "    self.__apellido_paterno = pat \n",
        "  def get_apellido_paterno ( self ):\n",
        "    return self.__apellido_paterno\n",
        "\n",
        "  def set_apellido_materno(self, mat):\n",
        "    self.__apellido_materno = mat \n",
        "  def get_apellido_materno( self ):\n",
        "    return self.__apellido_materno\n",
        "\n",
        "  def set_horas_extras(self, he):\n",
        "    self.__horas_extras = he \n",
        "  def get_horas_extras( self ):\n",
        "    return self.__horas_extras\n",
        "\n",
        "  def set_sueldo_base( self, sb):\n",
        "    self.__sueldo_base = sb\n",
        "  def get_sueldo_base( self ):\n",
        "    return self.__sueldo_base\n",
        "\n",
        "  def set_anio_de_ingreso ( self, ai):\n",
        "    self.__anio_de_ingreso = ai \n",
        "  def get_anio_de_ingreso ( self ): #No envia nada por eso no se pone otro valor al lado de self \n",
        "    return self.__anio_de_ingreso\n",
        "  \n",
        "  #Metodos de uso general\n",
        "  def calcular_sueldo_mensual(self):\n",
        "    anios = 2021 - self.get_anio_de_ingreso()\n",
        "\n",
        "    sueldo = self.get_sueldo_base() #Ahora agregar las horas extras\n",
        "\n",
        "    sueldo += self.get_horas_extras() * 276.5\n",
        "  \n",
        "  #Agregar prestaciones por antiguedad\n",
        "    sueldo = sueldo + (sueldo * anios * 0.03)\n",
        "    return sueldo\n",
        "  def to_string ( self ):\n",
        "    return \"Nombre: \" + self.__nombres + \" Sueldo Mensual: $\" + str(self.calcular_sueldo_mensual())\n",
        "  def calcular_antiguedad(self):\n",
        "    return 2021 - self.get_anio_de_ingreso()\n",
        "\n",
        "emp = Trabajador(5754,'ANGEL','GOMEZ','GARRIDO',1,9850,2020)\n",
        "print(emp.get_numero_trabajador())\n",
        "print(emp.get_nombres())\n",
        "print(emp.get_apellido_paterno())\n",
        "print(emp.get_apellido_materno())\n",
        "print(emp.get_horas_extras())\n",
        "print(emp.get_sueldo_base())\n",
        "print(emp.get_anio_de_ingreso())\n",
        "print(emp.calcular_antiguedad())\n",
        "print(emp.to_string())"
      ],
      "execution_count": 2,
      "outputs": [
        {
          "output_type": "stream",
          "name": "stdout",
          "text": [
            "5754\n",
            "ANGEL\n",
            "GOMEZ\n",
            "GARRIDO\n",
            "1\n",
            "9850\n",
            "2020\n",
            "1\n",
            "Nombre: ANGEL Sueldo Mensual: $10430.295\n"
          ]
        }
      ]
    },
    {
      "cell_type": "code",
      "metadata": {
        "id": "IvvZDwMkvV_2"
      },
      "source": [
        "class Array:\n",
        "    def __init__( self , tam ):\n",
        "        self.__tamanio = tam\n",
        "        self.__data = [6 for x in range(self.__tamanio)]\n",
        "    \n",
        "    def to_string( self ) :\n",
        "        info = \"\"\n",
        "        for dato in self.__data:\n",
        "            info = info + str(dato) + \"|\"\n",
        "        return info\n",
        "\n",
        "    def get_item( self , index ):\n",
        "        return self.__data[index]\n",
        "\n",
        "    def get_length( self ):\n",
        "        return len ( self.__data )\n",
        "    \n",
        "    def set_item( self , dato , index):\n",
        "        #Hace falta revisar los limites\n",
        "        if index >= 0 and index < self.get_length():\n",
        "            self.__data[index] = dato\n",
        "        else:\n",
        "            print(\"Error: indice fuera de rango\")\n",
        "    def clear ( self , dato ):\n",
        "        self.__data = [ dato for x in range(self.__tamanio) ]"
      ],
      "execution_count": 6,
      "outputs": []
    },
    {
      "cell_type": "code",
      "metadata": {
        "colab": {
          "base_uri": "https://localhost:8080/"
        },
        "id": "ejWUrtdQbqAy",
        "outputId": "b02bba69-8b00-4ee5-f5b5-f4ebc10cd026"
      },
      "source": [
        "class NominaADT:\n",
        "  def __init__(self, ruta_archivo):\n",
        "    #Procedemos a abrir el archivo y darle esta vlor a alguna variable \n",
        "    archivo = open( ruta_archivo ,'rt', encoding='latin-1' )\n",
        "    empleados = archivo.readlines()\n",
        "    print(empleados)\n",
        "    print(\".-.-.-.-..-.-.-.-.\")\n",
        "    del empleados [0]\n",
        "    print(empleados)\n",
        "    for index in range(len(empleados)):\n",
        "      empleados[index] = empleados[index].strip().split(',')#split te los agrupa y separa con el valor que indiques \n",
        "      #Strip siver para eliminar espacios saltos de renglon etc...\n",
        "    print(\".-.-.-.--.-.-.-.-.--\")\n",
        "    print(empleados)\n",
        "    print(\".-.-.------.--.-.-..-.-.-.-.-.\")\n",
        "    for emp in empleados:\n",
        "      print(emp)\n",
        "    \n",
        "    #Siguen los calculos\n",
        "    self.__data=Array(len(empleados))#En este caso len sera 14 pero puede varear\n",
        "    cont = 0\n",
        "    for x in empleados:\n",
        "      x = Trabajador( int(x[0]), x[1], x[2], x[3], int(x[4]), int(x[5]), int(x[6]) )\n",
        "      self.__data.set_item( x, cont)\n",
        "      cont += 1\n",
        "      print(\".-..-.--.\")\n",
        "      print(x)\n",
        "\n",
        "  def calcular_sueldos ( self ):\n",
        "      for index in range(self.__data.get_length()):\n",
        "        print(self.__data.get_item(index).to_string())\n",
        "\n",
        "  #def mas_antiguo(self):\n",
        "\n",
        "\n",
        "  #def menos_antiguo(self):\n",
        "\n",
        "try1 = NominaADT('junio.dat')\n",
        "try1.calcular_sueldos()"
      ],
      "execution_count": 15,
      "outputs": [
        {
          "output_type": "stream",
          "name": "stdout",
          "text": [
            "['numero de trabajador, nombres, paterno, materno, horas extra, sueldo base, aÃ±o de ingreso\\n', '2345,CARLOS,PEREZ,CASTILLO,0,9850,2017\\n', '5754,ANGEL,GOMEZ,GARRIDO,1,9850,2020\\n', '5345,JESUS,MARTIN,SANTOS,2,9850,2016\\n', '3267,DAVID,JIMENEZ,LOZANO,2,9850,2017\\n', '8765,PEDRO,RUIZ,GUERRERO,2,9850,2017\\n', '5454,DANIEL,HERNANDEZ,CANO,3,9850,2018\\n', '3456,ALEJANDRO,DIAZ,PRIETO,2,9850,2018\\n', '3445,MARIA,MORENO,MENDEZ,1,9850,2018\\n', '9088,ALBERTO,MU\\x84OZ,CRUZ,1,9850,2017\\n', '8877,RAFAEL,ALVAREZ,FLORES,2,9850,2017\\n', '6767,FERNANDO,ROMERO,HERRERA,4,9850,2019\\n', '5654,PABLO,ALONSO,GALLEGO,1,9850,2019\\n', '4323,JORGE,GUTIERREZ,MARQUEZ,2,9850,2020\\n', '2232,RAMON,NAVARRO,LEON,1,9850,2016']\n",
            ".-.-.-.-..-.-.-.-.\n",
            "['2345,CARLOS,PEREZ,CASTILLO,0,9850,2017\\n', '5754,ANGEL,GOMEZ,GARRIDO,1,9850,2020\\n', '5345,JESUS,MARTIN,SANTOS,2,9850,2016\\n', '3267,DAVID,JIMENEZ,LOZANO,2,9850,2017\\n', '8765,PEDRO,RUIZ,GUERRERO,2,9850,2017\\n', '5454,DANIEL,HERNANDEZ,CANO,3,9850,2018\\n', '3456,ALEJANDRO,DIAZ,PRIETO,2,9850,2018\\n', '3445,MARIA,MORENO,MENDEZ,1,9850,2018\\n', '9088,ALBERTO,MU\\x84OZ,CRUZ,1,9850,2017\\n', '8877,RAFAEL,ALVAREZ,FLORES,2,9850,2017\\n', '6767,FERNANDO,ROMERO,HERRERA,4,9850,2019\\n', '5654,PABLO,ALONSO,GALLEGO,1,9850,2019\\n', '4323,JORGE,GUTIERREZ,MARQUEZ,2,9850,2020\\n', '2232,RAMON,NAVARRO,LEON,1,9850,2016']\n",
            ".-.-.-.--.-.-.-.-.--\n",
            "[['2345', 'CARLOS', 'PEREZ', 'CASTILLO', '0', '9850', '2017'], ['5754', 'ANGEL', 'GOMEZ', 'GARRIDO', '1', '9850', '2020'], ['5345', 'JESUS', 'MARTIN', 'SANTOS', '2', '9850', '2016'], ['3267', 'DAVID', 'JIMENEZ', 'LOZANO', '2', '9850', '2017'], ['8765', 'PEDRO', 'RUIZ', 'GUERRERO', '2', '9850', '2017'], ['5454', 'DANIEL', 'HERNANDEZ', 'CANO', '3', '9850', '2018'], ['3456', 'ALEJANDRO', 'DIAZ', 'PRIETO', '2', '9850', '2018'], ['3445', 'MARIA', 'MORENO', 'MENDEZ', '1', '9850', '2018'], ['9088', 'ALBERTO', 'MU\\x84OZ', 'CRUZ', '1', '9850', '2017'], ['8877', 'RAFAEL', 'ALVAREZ', 'FLORES', '2', '9850', '2017'], ['6767', 'FERNANDO', 'ROMERO', 'HERRERA', '4', '9850', '2019'], ['5654', 'PABLO', 'ALONSO', 'GALLEGO', '1', '9850', '2019'], ['4323', 'JORGE', 'GUTIERREZ', 'MARQUEZ', '2', '9850', '2020'], ['2232', 'RAMON', 'NAVARRO', 'LEON', '1', '9850', '2016']]\n",
            ".-.-.------.--.-.-..-.-.-.-.-.\n",
            "['2345', 'CARLOS', 'PEREZ', 'CASTILLO', '0', '9850', '2017']\n",
            "['5754', 'ANGEL', 'GOMEZ', 'GARRIDO', '1', '9850', '2020']\n",
            "['5345', 'JESUS', 'MARTIN', 'SANTOS', '2', '9850', '2016']\n",
            "['3267', 'DAVID', 'JIMENEZ', 'LOZANO', '2', '9850', '2017']\n",
            "['8765', 'PEDRO', 'RUIZ', 'GUERRERO', '2', '9850', '2017']\n",
            "['5454', 'DANIEL', 'HERNANDEZ', 'CANO', '3', '9850', '2018']\n",
            "['3456', 'ALEJANDRO', 'DIAZ', 'PRIETO', '2', '9850', '2018']\n",
            "['3445', 'MARIA', 'MORENO', 'MENDEZ', '1', '9850', '2018']\n",
            "['9088', 'ALBERTO', 'MU\\x84OZ', 'CRUZ', '1', '9850', '2017']\n",
            "['8877', 'RAFAEL', 'ALVAREZ', 'FLORES', '2', '9850', '2017']\n",
            "['6767', 'FERNANDO', 'ROMERO', 'HERRERA', '4', '9850', '2019']\n",
            "['5654', 'PABLO', 'ALONSO', 'GALLEGO', '1', '9850', '2019']\n",
            "['4323', 'JORGE', 'GUTIERREZ', 'MARQUEZ', '2', '9850', '2020']\n",
            "['2232', 'RAMON', 'NAVARRO', 'LEON', '1', '9850', '2016']\n",
            ".-..-.--.\n",
            "<__main__.Trabajador object at 0x7f390c0c42d0>\n",
            ".-..-.--.\n",
            "<__main__.Trabajador object at 0x7f390c0c4cd0>\n",
            ".-..-.--.\n",
            "<__main__.Trabajador object at 0x7f390fc82650>\n",
            ".-..-.--.\n",
            "<__main__.Trabajador object at 0x7f390c166450>\n",
            ".-..-.--.\n",
            "<__main__.Trabajador object at 0x7f390c1c6b10>\n",
            ".-..-.--.\n",
            "<__main__.Trabajador object at 0x7f390c0b2450>\n",
            ".-..-.--.\n",
            "<__main__.Trabajador object at 0x7f390c0b21d0>\n",
            ".-..-.--.\n",
            "<__main__.Trabajador object at 0x7f390c0b2b90>\n",
            ".-..-.--.\n",
            "<__main__.Trabajador object at 0x7f390c0b2ed0>\n",
            ".-..-.--.\n",
            "<__main__.Trabajador object at 0x7f390c0c4b90>\n",
            ".-..-.--.\n",
            "<__main__.Trabajador object at 0x7f390c0c4710>\n",
            ".-..-.--.\n",
            "<__main__.Trabajador object at 0x7f390c0c44d0>\n",
            ".-..-.--.\n",
            "<__main__.Trabajador object at 0x7f390c0c4c10>\n",
            ".-..-.--.\n",
            "<__main__.Trabajador object at 0x7f390c0b86d0>\n",
            "Nombre: CARLOS Sueldo Mensual: $11032.0\n",
            "Nombre: ANGEL Sueldo Mensual: $10430.295\n",
            "Nombre: JESUS Sueldo Mensual: $11963.45\n",
            "Nombre: DAVID Sueldo Mensual: $11651.36\n",
            "Nombre: PEDRO Sueldo Mensual: $11651.36\n",
            "Nombre: DANIEL Sueldo Mensual: $11640.655\n",
            "Nombre: ALEJANDRO Sueldo Mensual: $11339.27\n",
            "Nombre: MARIA Sueldo Mensual: $11037.885\n",
            "Nombre: ALBERTO Sueldo Mensual: $11341.68\n",
            "Nombre: RAFAEL Sueldo Mensual: $11651.36\n",
            "Nombre: FERNANDO Sueldo Mensual: $11613.36\n",
            "Nombre: PABLO Sueldo Mensual: $10734.09\n",
            "Nombre: JORGE Sueldo Mensual: $10715.09\n",
            "Nombre: RAMON Sueldo Mensual: $11645.475\n"
          ]
        }
      ]
    }
  ]
}